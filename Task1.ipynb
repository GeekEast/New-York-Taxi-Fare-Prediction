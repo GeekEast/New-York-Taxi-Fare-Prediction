{
 "cells": [
  {
   "cell_type": "markdown",
   "metadata": {
    "tags": [
     "excluded_from_script"
    ]
   },
   "source": [
    "# Machine Leanring Project, Task 1: Feature Engineering"
   ]
  },
  {
   "cell_type": "code",
   "execution_count": 1,
   "metadata": {},
   "outputs": [],
   "source": [
    "# Imports\n",
    "import pandas as pd\n",
    "import math\n",
    "import numpy as np\n",
    "from sklearn.model_selection import cross_val_score\n",
    "from xgboost.sklearn import XGBRegressor\n",
    "import xgboost as xgb\n",
    "import warnings\n",
    "warnings.filterwarnings('ignore')"
   ]
  },
  {
   "cell_type": "markdown",
   "metadata": {
    "tags": [
     "excluded_from_script"
    ]
   },
   "source": [
    "## Utility Methods"
   ]
  },
  {
   "cell_type": "code",
   "execution_count": 2,
   "metadata": {},
   "outputs": [],
   "source": [
    "def haversine_distance(origin, destination):\n",
    "    \"\"\"\n",
    "    # Formula to calculate the spherical distance between 2 coordinates, with each specified as a (lat, lng) tuple\n",
    "\n",
    "    :param origin: (lat, lng)\n",
    "    :type origin: tuple\n",
    "    :param destination: (lat, lng)\n",
    "    :type destination: tuple\n",
    "    :return: haversine distance\n",
    "    :rtype: float\n",
    "    \"\"\"\n",
    "    lat1, lon1 = origin\n",
    "    lat2, lon2 = destination\n",
    "    radius = 6371  # km\n",
    "\n",
    "    dlat = math.radians(lat2 - lat1)\n",
    "    dlon = math.radians(lon2 - lon1)\n",
    "    a = math.sin(dlat / 2) * math.sin(dlat / 2) + math.cos(math.radians(lat1)) * math.cos(\n",
    "        math.radians(lat2)) * math.sin(dlon / 2) * math.sin(dlon / 2)\n",
    "    c = 2 * math.atan2(math.sqrt(a), math.sqrt(1 - a))\n",
    "    d = radius * c\n",
    "\n",
    "    return d"
   ]
  },
  {
   "cell_type": "markdown",
   "metadata": {
    "tags": [
     "excluded_from_script"
    ]
   },
   "source": [
    "## Feature Engineering\n",
    "> TODO: You need to implement the two functions below to take in raw data, perform data preprocessing and create new features using your knowledge of the problem domain. The main difference between processing test and training data is that **you cannot filter out records from the test set** (i.e., you have to return a prediction even if the input data may be an outlier).\n",
    "\n",
    "> Feel free to add additional cells to explore the data. You will also find it very helpful to visualize the distribution of the dataset to get a sense of the trends or patterns. **However, you will want to exclude these cells when we export the notebook as an executable.** The submitter will exclude any cells tagged with `excluded_from_script`, so make sure you tag any cells containing exploration code appropriately. You can display the tags for each cell as such: `View > Cell Toolbar > Tags`."
   ]
  },
  {
   "cell_type": "code",
   "execution_count": 12,
   "metadata": {},
   "outputs": [],
   "source": [
    "def calculateDistance(raw_df, lat1, lon1, lat2, lon2, new_column_name):\n",
    "    new_column=[]\n",
    "    for index,row in raw_df.iterrows():\n",
    "        origin = (row[lat1],row[lon1])\n",
    "        dest = (row[lat2],row[lon2])\n",
    "        value = haversine_distance(origin, dest)\n",
    "        new_column.append(value)\n",
    "    raw_df.insert(1,new_column_name,new_column)\n",
    "    return raw_df\n",
    "    \n",
    "def addThreeAirports(df):\n",
    "    \n",
    "    df.loc[:,'jfk_latitude'] = 40.6413111\n",
    "    df.loc[:,'jfk_longtitude'] = -73.7781391\n",
    "    \n",
    "    df.loc[:,'lga_latitude'] = 40.7730136\n",
    "    df.loc[:,'lga_longtitude'] = -73.8702300\n",
    "    \n",
    "    df.loc[:,'ewr_latitude'] = 40.7026322\n",
    "    df.loc[:,'ewr_longtitude'] = -74.1877659\n",
    "    \n",
    "    df.loc[:,'nyc_longtitude'] = -73.9776225\n",
    "    df.loc[:,'nyc_latitude'] = 40.7638356\n",
    "\n",
    "    df = addDistances(df)\n",
    "    \n",
    "    # normalize the lontitude and latitude\n",
    "    for longtitude in ['pickup_longitude','dropoff_longitude','jfk_longtitude','lga_longtitude',\n",
    "                      'ewr_longtitude','nyc_longtitude']: \n",
    "        df[longtitude] = df[longtitude].map(lambda x: (x+180)/360)\n",
    "    for latitude in ['pickup_latitude','dropoff_latitude','jfk_latitude','lga_latitude','ewr_latitude',\n",
    "                     'nyc_latitude']: \n",
    "        df[latitude] = df[latitude].map(lambda x: x/180)\n",
    "    \n",
    "    return df\n",
    "\n",
    "def addDistances(df):\n",
    "    # calculate the trip distance\n",
    "    calculateDistance(df,'pickup_latitude','pickup_longitude','dropoff_latitude','dropoff_longitude','trip_distance')\n",
    "    \n",
    "    # calcualte the distance between pick up geo point and airports\n",
    "    for end in ['pickup','dropoff']:\n",
    "        for airport in ['jfk','lga','ewr','nyc']: \n",
    "                calculateDistance(df, end + '_latitude',end + '_longitude',\n",
    "                                  airport + '_latitude',airport + '_longtitude',\n",
    "                                  end + '_to_' + airport)\n",
    "    return df\n",
    "\n",
    "def dealWithOutliers(train_data):\n",
    "    lat_upper = 41.0\n",
    "    lat_lower = 40.0\n",
    "    long_upper = -73.5 \n",
    "    long_lower = -74.5\n",
    "    \n",
    "    train_data['outlier'] = 1\n",
    "    train_data.loc[train_data.isnull().any(axis=1), 'outlier'] = 0\n",
    "    for longtitude in ['pickup_longitude','dropoff_longitude']:\n",
    "        train_data.loc[train_data[longtitude] > long_upper,'outlier'] = 0\n",
    "        train_data.loc[train_data[longtitude] < long_lower,'outlier'] = 0\n",
    "        train_data.loc[train_data[longtitude] == 0.0,'outlier'] = 0\n",
    "    for latitude in ['pickup_latitude','dropoff_latitude']:\n",
    "        train_data.loc[train_data[latitude] > lat_upper,'outlier'] = 0\n",
    "        train_data.loc[train_data[latitude] < lat_lower,'outlier'] = 0\n",
    "        train_data.loc[train_data[longtitude] == 0.0,'outlier'] = 0\n",
    "    return train_data\n",
    "\n",
    "def qcutNumerical(df):\n",
    "    return pd.get_dummies(df,prefix = ['outlier'], columns= ['outlier']) \n",
    " \n",
    "def parseDatetime(raw_df):\n",
    "    raw_df['year'] = raw_df.pickup_datetime.apply(lambda t: t.year)\n",
    "    raw_df['month'] = raw_df.pickup_datetime.apply(lambda t: t.month) \n",
    "    raw_df['weekday'] = raw_df.pickup_datetime.apply(lambda t: t.weekday())\n",
    "    raw_df['hour'] = raw_df.pickup_datetime.apply(lambda t: t.hour)\n",
    "    \n",
    "#     # one hot encoding\n",
    "#     categorical_cols = ['year','month','weekday','hour']\n",
    "    \n",
    "#     for categorical_col in categorical_cols:\n",
    "#         raw_df[categorical_col] = raw_df[categorical_col].astype('category')\n",
    "        \n",
    "#     raw_df = pd.get_dummies(raw_df,prefix=categorical_cols,columns=categorical_cols)\n",
    "    \n",
    "    return raw_df\n",
    "\n",
    "def addMissingDummy(df):\n",
    "    predefined_cols = [\n",
    "        'dropoff_to_nyc',\n",
    "        'dropoff_to_ewr',\n",
    "        'dropoff_to_lga',\n",
    "        'dropoff_to_jfk',\n",
    "        'pickup_to_nyc',\n",
    "        'pickup_to_ewr',\n",
    "        'pickup_to_lga',\n",
    "        'pickup_to_jfk',\n",
    "        'trip_distance',\n",
    "        'pickup_longitude',\n",
    "        'pickup_latitude',\n",
    "        'dropoff_longitude',\n",
    "        'dropoff_latitude',\n",
    "        'passenger_count',\n",
    "        'jfk_latitude',\n",
    "        'jfk_longtitude',\n",
    "        'lga_latitude',\n",
    "        'lga_longtitude',\n",
    "        'ewr_latitude',\n",
    "        'ewr_longtitude',\n",
    "        'nyc_longtitude',\n",
    "        'nyc_latitude',\n",
    "        'year_2009',\n",
    "        'year_2010',\n",
    "        'year_2011',\n",
    "        'year_2012',\n",
    "        'year_2013',\n",
    "        'year_2014',\n",
    "        'year_2015',\n",
    "        'month_1',\n",
    "        'month_2',\n",
    "        'month_3',\n",
    "        'month_4',\n",
    "        'month_5',\n",
    "        'month_6',\n",
    "        'month_7',\n",
    "        'month_8',\n",
    "        'month_9',\n",
    "        'month_10',\n",
    "        'month_11',\n",
    "        'month_12',\n",
    "        'weekday_0',\n",
    "        'weekday_1',\n",
    "        'weekday_2',\n",
    "        'weekday_3',\n",
    "        'weekday_4',\n",
    "        'weekday_5',\n",
    "        'weekday_6',\n",
    "        'hour_0',\n",
    "        'hour_1',\n",
    "        'hour_2',\n",
    "        'hour_3',\n",
    "        'hour_4',\n",
    "        'hour_5',\n",
    "        'hour_6',\n",
    "        'hour_7',\n",
    "        'hour_8',\n",
    "        'hour_9',\n",
    "        'hour_10',\n",
    "        'hour_11',\n",
    "        'hour_12',\n",
    "        'hour_13',\n",
    "        'hour_14',\n",
    "        'hour_15',\n",
    "        'hour_16',\n",
    "        'hour_17',\n",
    "        'hour_18',\n",
    "        'hour_19',\n",
    "        'hour_20',\n",
    "        'hour_21',\n",
    "        'hour_22',\n",
    "        'hour_23',\n",
    "        'outlier_0',\n",
    "        'outlier_1',\n",
    "        ]\n",
    "    missing_cols = set(predefined_cols) - set(df.columns)\n",
    "    for col in missing_cols:\n",
    "        df.loc[:, col] = 0\n",
    "    return df"
   ]
  },
  {
   "cell_type": "code",
   "execution_count": 4,
   "metadata": {},
   "outputs": [],
   "source": [
    "def process_train_data(raw_df):\n",
    "    # delete some abnormal rows\n",
    "    raw_df = raw_df[(raw_df['fare_amount'] > 0) & (raw_df['fare_amount'] < 100)] # cannot delete man...\n",
    "    \n",
    "    # frist step to deal with abnormal data point\n",
    "    cleaned_raw_data = dealWithOutliers(raw_df)\n",
    "    \n",
    "    # add airports and convert coodinates to distances\n",
    "    cleaned_data_with_distances = addThreeAirports(cleaned_raw_data)\n",
    "    \n",
    "    # date time one-hot encoding\n",
    "    cleaned_data_with_distance_and_time = parseDatetime(cleaned_data_with_distances)\n",
    "    \n",
    "#     # qcut the numerical variables\n",
    "#     cleaned_data_with_distance_and_time_qcut = qcutNumerical(cleaned_data_with_distance_and_time)\n",
    "    \n",
    "    # delete the pickup_datetime\n",
    "    candidate = cleaned_data_with_distance_and_time\n",
    "    \n",
    "#     # add the missing dummy cols\n",
    "#     final = addMissingDummy(candidate)\n",
    "    \n",
    "    return candidate\n",
    "\n",
    "\n",
    "def process_test_data(raw_df):\n",
    "    # frist step to deal with abnormal data point\n",
    "    cleaned_raw_data = dealWithOutliers(raw_df)\n",
    "    \n",
    "    # add airports and convert coodinates to distances\n",
    "    cleaned_data_with_distances = addThreeAirports(cleaned_raw_data)\n",
    "    \n",
    "    # parse datatime this can be ver different\n",
    "    cleaned_data_with_distance_and_time = parseDatetime(cleaned_data_with_distances)\n",
    "    \n",
    "#     # do the qcut for the numerical variables\n",
    "#     cleaned_data_with_distance_and_time_qcut = qcutNumerical(cleaned_data_with_distance_and_time)\n",
    "\n",
    "    # return the result\n",
    "    return cleaned_data_with_distance_and_time"
   ]
  },
  {
   "cell_type": "markdown",
   "metadata": {
    "tags": [
     "excluded_from_script"
    ]
   },
   "source": [
    "## Model Checking with XGBoost and k-fold Cross Validation\n",
    "> As you iterate on your features, you want to quickly validate the model and evaluate if these new features help to improve your model's predictions. This process is known as model checking. You will use XGBoost to train the model, and use Root Mean Squared Error (RMSE) to quantify the performance. Cross validation is used to evaluate how the performance of the model will generalize to an unseen dataset."
   ]
  },
  {
   "cell_type": "code",
   "execution_count": 5,
   "metadata": {},
   "outputs": [
    {
     "name": "stdout",
     "output_type": "stream",
     "text": [
      "Shape of the raw data: (110222, 8)\n"
     ]
    }
   ],
   "source": [
    "# Load data\n",
    "raw_train = pd.read_csv('data/cc_nyc_fare_train_small.csv', parse_dates=['pickup_datetime'])\n",
    "print('Shape of the raw data: {}'.format(raw_train.shape))"
   ]
  },
  {
   "cell_type": "code",
   "execution_count": 13,
   "metadata": {
    "tags": [
     "excluded_from_script"
    ]
   },
   "outputs": [
    {
     "data": {
      "text/plain": [
       "['key',\n",
       " 'fare_amount',\n",
       " 'pickup_datetime',\n",
       " 'pickup_longitude',\n",
       " 'pickup_latitude',\n",
       " 'dropoff_longitude',\n",
       " 'dropoff_latitude',\n",
       " 'passenger_count',\n",
       " 'year_2009',\n",
       " 'year_2010',\n",
       " 'year_2011',\n",
       " 'year_2012',\n",
       " 'year_2013',\n",
       " 'year_2014',\n",
       " 'year_2015',\n",
       " 'month_1',\n",
       " 'month_2',\n",
       " 'month_3',\n",
       " 'month_4',\n",
       " 'month_5',\n",
       " 'month_6',\n",
       " 'month_7',\n",
       " 'month_8',\n",
       " 'month_9',\n",
       " 'month_10',\n",
       " 'month_11',\n",
       " 'month_12',\n",
       " 'weekday_0',\n",
       " 'weekday_1',\n",
       " 'weekday_2',\n",
       " 'weekday_3',\n",
       " 'weekday_4',\n",
       " 'weekday_5',\n",
       " 'weekday_6',\n",
       " 'hour_0',\n",
       " 'hour_1',\n",
       " 'hour_2',\n",
       " 'hour_3',\n",
       " 'hour_4',\n",
       " 'hour_5',\n",
       " 'hour_6',\n",
       " 'hour_7',\n",
       " 'hour_8',\n",
       " 'hour_9',\n",
       " 'hour_10',\n",
       " 'hour_11',\n",
       " 'hour_12',\n",
       " 'hour_13',\n",
       " 'hour_14',\n",
       " 'hour_15',\n",
       " 'hour_16',\n",
       " 'hour_17',\n",
       " 'hour_18',\n",
       " 'hour_19',\n",
       " 'hour_20',\n",
       " 'hour_21',\n",
       " 'hour_22',\n",
       " 'hour_23']"
      ]
     },
     "execution_count": 13,
     "metadata": {},
     "output_type": "execute_result"
    }
   ],
   "source": [
    "list(parseDatetime(raw_train).columns)"
   ]
  },
  {
   "cell_type": "code",
   "execution_count": 6,
   "metadata": {
    "tags": [
     "excluded_from_script"
    ]
   },
   "outputs": [],
   "source": [
    "import numpy as np\n",
    "import pandas as pd\n",
    "import matplotlib.pyplot as plt\n",
    "import seaborn as sns\n",
    "%matplotlib inline\n",
    "plt.style.use('seaborn-whitegrid')"
   ]
  },
  {
   "cell_type": "code",
   "execution_count": 8,
   "metadata": {
    "tags": [
     "excluded_from_script"
    ]
   },
   "outputs": [
    {
     "data": {
      "image/png": "[encoded data removed]",
      "text/plain": [
       "<Figure size 1008x216 with 1 Axes>"
      ]
     },
     "metadata": {},
     "output_type": "display_data"
    }
   ],
   "source": [
    "# plot histogram of fare\n",
    "raw_train[raw_train.fare_amount < 200].fare_amount.hist(bins=100, figsize=(14,3))\n",
    "plt.xlabel('fare $USD')\n",
    "plt.title('Histogram');"
   ]
  },
  {
   "cell_type": "code",
   "execution_count": 9,
   "metadata": {
    "tags": [
     "excluded_from_script"
    ]
   },
   "outputs": [
    {
     "data": {
      "image/png": "[encoded data removed]",
      "text/plain": [
       "<Figure size 1440x216 with 1 Axes>"
      ]
     },
     "metadata": {},
     "output_type": "display_data"
    }
   ],
   "source": [
    "# plot histogram of pickup_longitude\n",
    "raw_train[(raw_train.pickup_longitude > -74.25) & (raw_train.pickup_longitude < -73.75)].pickup_longitude.hist(bins = 400,figsize=(20,3)) \n",
    "plt.xlabel('Pick Up Longtitude')\n",
    "plt.title('Histogram');"
   ]
  },
  {
   "cell_type": "code",
   "execution_count": 10,
   "metadata": {
    "tags": [
     "excluded_from_script"
    ]
   },
   "outputs": [
    {
     "data": {
      "image/png": "[encoded data removed]",
      "text/plain": [
       "<Figure size 1296x216 with 1 Axes>"
      ]
     },
     "metadata": {},
     "output_type": "display_data"
    }
   ],
   "source": [
    "# plot histogram of pickup_longitude\n",
    "raw_train[(raw_train.pickup_latitude < 41) & (raw_train.pickup_latitude > 40.4)].pickup_latitude.hist(bins = 400,figsize=(18,3)) \n",
    "plt.xlabel('Pick Up Latitude')\n",
    "plt.title('Histogram');"
   ]
  },
  {
   "cell_type": "code",
   "execution_count": 11,
   "metadata": {
    "tags": [
     "excluded_from_script"
    ]
   },
   "outputs": [
    {
     "data": {
      "image/png": "[encoded data removed]",
      "text/plain": [
       "<Figure size 1440x216 with 1 Axes>"
      ]
     },
     "metadata": {},
     "output_type": "display_data"
    }
   ],
   "source": [
    "# plot histogram of pickup_longitude\n",
    "raw_train[(raw_train.dropoff_longitude < -73.75) & (raw_train.dropoff_longitude > -74.25)].dropoff_longitude.hist(bins = 400,figsize=(20,3)) \n",
    "plt.xlabel('Drop off Longtitude')\n",
    "plt.title('Histogram');"
   ]
  },
  {
   "cell_type": "code",
   "execution_count": 12,
   "metadata": {
    "tags": [
     "excluded_from_script"
    ]
   },
   "outputs": [
    {
     "data": {
      "image/png": "[encoded data removed]",
      "text/plain": [
       "<Figure size 1296x216 with 1 Axes>"
      ]
     },
     "metadata": {},
     "output_type": "display_data"
    }
   ],
   "source": [
    "# plot histogram of pickup_longitude\n",
    "raw_train[(raw_train.dropoff_latitude < 41) & (raw_train.dropoff_latitude > 40.4)].dropoff_latitude.hist(bins = 300,figsize=(18,3)) \n",
    "plt.xlabel('Drop off Latitude')\n",
    "plt.title('Histogram');"
   ]
  },
  {
   "cell_type": "code",
   "execution_count": 16,
   "metadata": {
    "tags": [
     "excluded_from_script"
    ]
   },
   "outputs": [
    {
     "data": {
      "text/html": [
       "<div>\n",
       "<style scoped>\n",
       "    .dataframe tbody tr th:only-of-type {\n",
       "        vertical-align: middle;\n",
       "    }\n",
       "\n",
       "    .dataframe tbody tr th {\n",
       "        vertical-align: top;\n",
       "    }\n",
       "\n",
       "    .dataframe thead th {\n",
       "        text-align: right;\n",
       "    }\n",
       "</style>\n",
       "<table border=\"1\" class=\"dataframe\">\n",
       "  <thead>\n",
       "    <tr style=\"text-align: right;\">\n",
       "      <th></th>\n",
       "      <th>key</th>\n",
       "      <th>pickup_datetime</th>\n",
       "      <th>pickup_longitude</th>\n",
       "      <th>pickup_latitude</th>\n",
       "      <th>dropoff_longitude</th>\n",
       "      <th>dropoff_latitude</th>\n",
       "      <th>passenger_count</th>\n",
       "    </tr>\n",
       "  </thead>\n",
       "  <tbody>\n",
       "    <tr>\n",
       "      <th>0</th>\n",
       "      <td>2010-05-21 06:28:12.0000002</td>\n",
       "      <td>2010-05-21 06:28:12</td>\n",
       "      <td>-73.948402</td>\n",
       "      <td>40.776676</td>\n",
       "      <td>-73.981739</td>\n",
       "      <td>40.759825</td>\n",
       "      <td>1</td>\n",
       "    </tr>\n",
       "    <tr>\n",
       "      <th>1</th>\n",
       "      <td>2012-02-07 22:39:00.000000107</td>\n",
       "      <td>2012-02-07 22:39:00</td>\n",
       "      <td>-74.012947</td>\n",
       "      <td>40.717042</td>\n",
       "      <td>-73.989977</td>\n",
       "      <td>40.757097</td>\n",
       "      <td>1</td>\n",
       "    </tr>\n",
       "    <tr>\n",
       "      <th>2</th>\n",
       "      <td>2012-12-04 22:22:12.0000002</td>\n",
       "      <td>2012-12-04 22:22:12</td>\n",
       "      <td>-73.977211</td>\n",
       "      <td>40.745275</td>\n",
       "      <td>-73.977211</td>\n",
       "      <td>40.745275</td>\n",
       "      <td>1</td>\n",
       "    </tr>\n",
       "    <tr>\n",
       "      <th>3</th>\n",
       "      <td>2011-05-08 13:15:18.0000002</td>\n",
       "      <td>2011-05-08 13:15:18</td>\n",
       "      <td>-73.947803</td>\n",
       "      <td>40.770538</td>\n",
       "      <td>-73.790332</td>\n",
       "      <td>40.643815</td>\n",
       "      <td>1</td>\n",
       "    </tr>\n",
       "    <tr>\n",
       "      <th>4</th>\n",
       "      <td>2015-05-20 01:40:28.0000001</td>\n",
       "      <td>2015-05-20 01:40:28</td>\n",
       "      <td>-73.971413</td>\n",
       "      <td>40.760414</td>\n",
       "      <td>-73.962608</td>\n",
       "      <td>40.762306</td>\n",
       "      <td>2</td>\n",
       "    </tr>\n",
       "  </tbody>\n",
       "</table>\n",
       "</div>"
      ],
      "text/plain": [
       "                             key     pickup_datetime  pickup_longitude  \\\n",
       "0    2010-05-21 06:28:12.0000002 2010-05-21 06:28:12        -73.948402   \n",
       "1  2012-02-07 22:39:00.000000107 2012-02-07 22:39:00        -74.012947   \n",
       "2    2012-12-04 22:22:12.0000002 2012-12-04 22:22:12        -73.977211   \n",
       "3    2011-05-08 13:15:18.0000002 2011-05-08 13:15:18        -73.947803   \n",
       "4    2015-05-20 01:40:28.0000001 2015-05-20 01:40:28        -73.971413   \n",
       "\n",
       "   pickup_latitude  dropoff_longitude  dropoff_latitude  passenger_count  \n",
       "0        40.776676         -73.981739         40.759825                1  \n",
       "1        40.717042         -73.989977         40.757097                1  \n",
       "2        40.745275         -73.977211         40.745275                1  \n",
       "3        40.770538         -73.790332         40.643815                1  \n",
       "4        40.760414         -73.962608         40.762306                2  "
      ]
     },
     "execution_count": 16,
     "metadata": {},
     "output_type": "execute_result"
    }
   ],
   "source": [
    "# read data in pandas dataframe\n",
    "df_test =  pd.read_csv('data/cc_nyc_fare_test.csv',parse_dates=[\"pickup_datetime\"])\n",
    "df_test.head(5)"
   ]
  },
  {
   "cell_type": "code",
   "execution_count": 17,
   "metadata": {
    "tags": [
     "excluded_from_script"
    ]
   },
   "outputs": [
    {
     "data": {
      "text/html": [
       "<div>\n",
       "<style scoped>\n",
       "    .dataframe tbody tr th:only-of-type {\n",
       "        vertical-align: middle;\n",
       "    }\n",
       "\n",
       "    .dataframe tbody tr th {\n",
       "        vertical-align: top;\n",
       "    }\n",
       "\n",
       "    .dataframe thead th {\n",
       "        text-align: right;\n",
       "    }\n",
       "</style>\n",
       "<table border=\"1\" class=\"dataframe\">\n",
       "  <thead>\n",
       "    <tr style=\"text-align: right;\">\n",
       "      <th></th>\n",
       "      <th>pickup_longitude</th>\n",
       "      <th>pickup_latitude</th>\n",
       "      <th>dropoff_longitude</th>\n",
       "      <th>dropoff_latitude</th>\n",
       "      <th>passenger_count</th>\n",
       "    </tr>\n",
       "  </thead>\n",
       "  <tbody>\n",
       "    <tr>\n",
       "      <th>count</th>\n",
       "      <td>10000.000000</td>\n",
       "      <td>10000.000000</td>\n",
       "      <td>10000.000000</td>\n",
       "      <td>10000.000000</td>\n",
       "      <td>10000.000000</td>\n",
       "    </tr>\n",
       "    <tr>\n",
       "      <th>mean</th>\n",
       "      <td>-74.057711</td>\n",
       "      <td>40.847857</td>\n",
       "      <td>-74.059165</td>\n",
       "      <td>40.836837</td>\n",
       "      <td>1.696000</td>\n",
       "    </tr>\n",
       "    <tr>\n",
       "      <th>std</th>\n",
       "      <td>16.091322</td>\n",
       "      <td>16.832402</td>\n",
       "      <td>12.495058</td>\n",
       "      <td>15.634208</td>\n",
       "      <td>1.319984</td>\n",
       "    </tr>\n",
       "    <tr>\n",
       "      <th>min</th>\n",
       "      <td>-1656.640193</td>\n",
       "      <td>-74.003617</td>\n",
       "      <td>-1183.275658</td>\n",
       "      <td>-74.000940</td>\n",
       "      <td>1.000000</td>\n",
       "    </tr>\n",
       "    <tr>\n",
       "      <th>25%</th>\n",
       "      <td>-73.992352</td>\n",
       "      <td>40.736396</td>\n",
       "      <td>-73.991855</td>\n",
       "      <td>40.735574</td>\n",
       "      <td>1.000000</td>\n",
       "    </tr>\n",
       "    <tr>\n",
       "      <th>50%</th>\n",
       "      <td>-73.982182</td>\n",
       "      <td>40.753447</td>\n",
       "      <td>-73.980755</td>\n",
       "      <td>40.753511</td>\n",
       "      <td>1.000000</td>\n",
       "    </tr>\n",
       "    <tr>\n",
       "      <th>75%</th>\n",
       "      <td>-73.968666</td>\n",
       "      <td>40.767488</td>\n",
       "      <td>-73.965924</td>\n",
       "      <td>40.768363</td>\n",
       "      <td>2.000000</td>\n",
       "    </tr>\n",
       "    <tr>\n",
       "      <th>max</th>\n",
       "      <td>40.788082</td>\n",
       "      <td>1700.303268</td>\n",
       "      <td>40.784985</td>\n",
       "      <td>1578.631433</td>\n",
       "      <td>6.000000</td>\n",
       "    </tr>\n",
       "  </tbody>\n",
       "</table>\n",
       "</div>"
      ],
      "text/plain": [
       "       pickup_longitude  pickup_latitude  dropoff_longitude  dropoff_latitude  \\\n",
       "count      10000.000000     10000.000000       10000.000000      10000.000000   \n",
       "mean         -74.057711        40.847857         -74.059165         40.836837   \n",
       "std           16.091322        16.832402          12.495058         15.634208   \n",
       "min        -1656.640193       -74.003617       -1183.275658        -74.000940   \n",
       "25%          -73.992352        40.736396         -73.991855         40.735574   \n",
       "50%          -73.982182        40.753447         -73.980755         40.753511   \n",
       "75%          -73.968666        40.767488         -73.965924         40.768363   \n",
       "max           40.788082      1700.303268          40.784985       1578.631433   \n",
       "\n",
       "       passenger_count  \n",
       "count     10000.000000  \n",
       "mean          1.696000  \n",
       "std           1.319984  \n",
       "min           1.000000  \n",
       "25%           1.000000  \n",
       "50%           1.000000  \n",
       "75%           2.000000  \n",
       "max           6.000000  "
      ]
     },
     "execution_count": 17,
     "metadata": {},
     "output_type": "execute_result"
    }
   ],
   "source": [
    "df_test.describe()"
   ]
  },
  {
   "cell_type": "code",
   "execution_count": 19,
   "metadata": {
    "tags": [
     "excluded_from_script"
    ]
   },
   "outputs": [],
   "source": [
    "import numpy as np\n",
    "import pandas as pd\n",
    "import matplotlib.pyplot as plt\n",
    "import seaborn as sns\n",
    "%matplotlib inline\n",
    "plt.style.use('seaborn-whitegrid')"
   ]
  },
  {
   "cell_type": "code",
   "execution_count": 21,
   "metadata": {
    "tags": [
     "excluded_from_script"
    ]
   },
   "outputs": [
    {
     "data": {
      "image/png": "[encoded data removed]",
      "text/plain": [
       "<Figure size 1440x216 with 1 Axes>"
      ]
     },
     "metadata": {},
     "output_type": "display_data"
    }
   ],
   "source": [
    "df_test[(df_test.pickup_longitude < -70.00) & (df_test.pickup_longitude > -80.00)].pickup_longitude.hist(bins = 400,figsize=(20,3)) \n",
    "plt.xlabel('Pick Up Longtitude')\n",
    "plt.title('Histogram');"
   ]
  },
  {
   "cell_type": "code",
   "execution_count": 33,
   "metadata": {
    "tags": [
     "excluded_from_script"
    ]
   },
   "outputs": [
    {
     "data": {
      "image/png": "[encoded data removed]",
      "text/plain": [
       "<Figure size 1296x216 with 1 Axes>"
      ]
     },
     "metadata": {},
     "output_type": "display_data"
    }
   ],
   "source": [
    "# plot histogram of pickup_longitude\n",
    "df_test[(df_test.pickup_latitude < 41) & (df_test.pickup_latitude > 40.5)].pickup_latitude.hist(bins = 400,figsize=(18,3)) \n",
    "plt.xlabel('Pick Up Latitude')\n",
    "plt.title('Histogram');"
   ]
  },
  {
   "cell_type": "code",
   "execution_count": 27,
   "metadata": {
    "tags": [
     "excluded_from_script"
    ]
   },
   "outputs": [
    {
     "data": {
      "image/png": "[encoded data removed]",
      "text/plain": [
       "<Figure size 1440x216 with 1 Axes>"
      ]
     },
     "metadata": {},
     "output_type": "display_data"
    }
   ],
   "source": [
    "# plot histogram of pickup_longitude\n",
    "df_test[(df_test.dropoff_longitude < -73.5) & (df_test.dropoff_longitude > -74.5)].dropoff_longitude.hist(bins = 400,figsize=(20,3)) \n",
    "plt.xlabel('Drop off Longtitude')\n",
    "plt.title('Histogram');"
   ]
  },
  {
   "cell_type": "code",
   "execution_count": 32,
   "metadata": {
    "tags": [
     "excluded_from_script"
    ]
   },
   "outputs": [
    {
     "data": {
      "image/png": "[encoded data removed]",
      "text/plain": [
       "<Figure size 1440x216 with 1 Axes>"
      ]
     },
     "metadata": {},
     "output_type": "display_data"
    }
   ],
   "source": [
    "# plot histogram of pickup_longitude\n",
    "df_test[(df_test.dropoff_latitude < 41) & (df_test.dropoff_latitude > 40.5)].dropoff_latitude.hist(bins = 300,figsize=(20,3)) \n",
    "plt.xlabel('Drop off Latitude')\n",
    "plt.title('Histogram');"
   ]
  },
  {
   "cell_type": "code",
   "execution_count": 26,
   "metadata": {
    "tags": [
     "excluded_from_script"
    ]
   },
   "outputs": [
    {
     "name": "stdout",
     "output_type": "stream",
     "text": [
      "(110222, 38)\n",
      "(110177, 38)\n",
      "45 rows has been deleted.\n"
     ]
    }
   ],
   "source": [
    "print(raw_train.shape)\n",
    "df_train = raw_train[(raw_train['fare_amount'] >= 0) & (raw_train['fare_amount'] <= 100)]\n",
    "print(df_train.shape)\n",
    "print(\"{} rows has been deleted.\".format(raw_train.shape[0] - df_train.shape[0]))"
   ]
  },
  {
   "cell_type": "code",
   "execution_count": null,
   "metadata": {
    "tags": [
     "excluded_from_script"
    ]
   },
   "outputs": [],
   "source": [
    "print(df_train.shape)\n",
    "# frist step to deal with abnormal data point\n",
    "cleaned_df_train = dealWithOutliers(df_train)\n",
    "print(cleaned_df_train.shape)\n",
    "print(\"{} rows has been deleted.\".format(df_train.shape[0] - cleaned_df_train.shape[0]))"
   ]
  },
  {
   "cell_type": "code",
   "execution_count": null,
   "metadata": {
    "tags": [
     "excluded_from_script"
    ]
   },
   "outputs": [],
   "source": [
    "print(cleaned_df_train.shape)\n",
    "# add airports and convert coodinates to distances\n",
    "cleaned_df_train_with_distance = addThreeAirports(cleaned_df_train)\n",
    "print(cleaned_df_train_with_distance.shape)"
   ]
  },
  {
   "cell_type": "code",
   "execution_count": null,
   "metadata": {
    "tags": [
     "excluded_from_script"
    ]
   },
   "outputs": [],
   "source": [
    "list(cleaned_df_train.columns)"
   ]
  },
  {
   "cell_type": "code",
   "execution_count": null,
   "metadata": {
    "tags": [
     "excluded_from_script"
    ]
   },
   "outputs": [],
   "source": [
    "list(cleaned_df_train_with_distance.columns)"
   ]
  },
  {
   "cell_type": "code",
   "execution_count": null,
   "metadata": {
    "tags": [
     "excluded_from_script"
    ]
   },
   "outputs": [],
   "source": [
    "# date time one-hot encoding\n",
    "cleaned_df_train_with_distance_and_time = parseDatetime(cleaned_df_train_with_distance)"
   ]
  },
  {
   "cell_type": "code",
   "execution_count": null,
   "metadata": {
    "tags": [
     "excluded_from_script"
    ]
   },
   "outputs": [],
   "source": [
    "list(cleaned_df_train_with_distance_and_time.columns)"
   ]
  },
  {
   "cell_type": "code",
   "execution_count": null,
   "metadata": {
    "tags": [
     "excluded_from_script"
    ]
   },
   "outputs": [],
   "source": [
    "# qcut the numerical variables\n",
    "cleaned_df_train_with_distance_and_time_qcut = qcutNumerical(cleaned_df_train_with_distance_and_time)"
   ]
  },
  {
   "cell_type": "code",
   "execution_count": null,
   "metadata": {
    "tags": [
     "excluded_from_script"
    ]
   },
   "outputs": [],
   "source": [
    "list(cleaned_df_train_with_distance_and_time_qcut.columns)"
   ]
  },
  {
   "cell_type": "code",
   "execution_count": null,
   "metadata": {
    "tags": [
     "excluded_from_script"
    ]
   },
   "outputs": [],
   "source": [
    "# correct the columns\n",
    "cleaned_data_with_distance_and_time_qcut_correct = correctColumns(cleaned_df_train_with_distance_and_time_qcut)"
   ]
  },
  {
   "cell_type": "code",
   "execution_count": null,
   "metadata": {
    "tags": [
     "excluded_from_script"
    ]
   },
   "outputs": [],
   "source": [
    "list(cleaned_data_with_distance_and_time_qcut_correct.columns)"
   ]
  },
  {
   "cell_type": "code",
   "execution_count": null,
   "metadata": {
    "tags": [
     "excluded_from_script"
    ]
   },
   "outputs": [],
   "source": [
    "cleaned_data_with_distance_and_time_qcut_correct.shape"
   ]
  },
  {
   "cell_type": "code",
   "execution_count": null,
   "metadata": {
    "tags": [
     "excluded_from_script"
    ]
   },
   "outputs": [],
   "source": [
    "X = cleaned_data_with_distance_and_time_qcut_correct.drop(['key', 'fare_amount', 'pickup_datetime'], axis=1)\n",
    "Y = cleaned_data_with_distance_and_time_qcut_correct['fare_amount']"
   ]
  },
  {
   "cell_type": "code",
   "execution_count": 14,
   "metadata": {},
   "outputs": [
    {
     "name": "stdout",
     "output_type": "stream",
     "text": [
      "Shape of the feature matrix: (110170, 74)\n"
     ]
    }
   ],
   "source": [
    "# Transform features using the function you have defined\n",
    "df_train = process_train_data(raw_train)\n",
    "\n",
    "# Remove fields that we do not want to train with\n",
    "X = df_train.drop(['key', 'fare_amount', 'pickup_datetime'], axis=1)\n",
    "\n",
    "# Extract the value you want to predict\n",
    "Y = df_train['fare_amount']\n",
    "print('Shape of the feature matrix: {}'.format(X.shape))"
   ]
  },
  {
   "cell_type": "code",
   "execution_count": 16,
   "metadata": {
    "tags": [
     "excluded_from_script"
    ]
   },
   "outputs": [
    {
     "data": {
      "text/plain": [
       "74"
      ]
     },
     "execution_count": 16,
     "metadata": {},
     "output_type": "execute_result"
    }
   ],
   "source": [
    "len(X.columns)"
   ]
  },
  {
   "cell_type": "code",
   "execution_count": 8,
   "metadata": {
    "tags": [
     "excluded_from_script"
    ]
   },
   "outputs": [
    {
     "name": "stdout",
     "output_type": "stream",
     "text": [
      "Average RMSE with 5-fold Cross Validation: 226.325\n"
     ]
    }
   ],
   "source": [
    "# Evaluate features with K-fold cross validation\n",
    "# The higher K is, the longer it takes to run, and the higher your confidence in the score\n",
    "K = 5\n",
    "model = XGBRegressor()\n",
    "scores = cross_val_score(model, X, Y, cv=K, scoring='neg_mean_squared_error', verbose=False)\n",
    "avg_rmse = math.sqrt(abs(np.mean(scores)))\n",
    "\n",
    "print('Average RMSE with {}-fold Cross Validation: {:.3f}'.format(K, avg_rmse))"
   ]
  },
  {
   "cell_type": "markdown",
   "metadata": {
    "tags": [
     "excluded_from_script"
    ]
   },
   "source": [
    "## Evaluating Feature Importance\n",
    "> After you train the model, XGBoost has a handy utility that allows you to compare the relative importance of each feature. You should use this to assess which features you created are meaningful. "
   ]
  },
  {
   "cell_type": "code",
   "execution_count": null,
   "metadata": {
    "tags": [
     "excluded_from_script"
    ]
   },
   "outputs": [],
   "source": [
    "# Train the model again with the entire training set\n",
    "model = XGBRegressor()\n",
    "model.fit(X, Y)\n",
    "xgb.plot_importance(model, height=0.8)"
   ]
  },
  {
   "cell_type": "markdown",
   "metadata": {
    "tags": [
     "excluded_from_script"
    ]
   },
   "source": [
    "## Evaluating against Hidden Test Set\n",
    "> Once you are satisfied with the performance of the features you have selected, you can use the trained model to make predictions on the hidden test set. **Do not change the default configuration of the model.** In task 1, you want to focus on feature selection, without worrying about tuning the model."
   ]
  },
  {
   "cell_type": "code",
   "execution_count": null,
   "metadata": {
    "tags": [
     "excluded_from_script"
    ]
   },
   "outputs": [],
   "source": [
    "raw_test = pd.read_csv('data/cc_nyc_fare_test.csv', parse_dates=['pickup_datetime'])\n",
    "# df_test = process_test_data(raw_test)"
   ]
  },
  {
   "cell_type": "code",
   "execution_count": null,
   "metadata": {
    "tags": [
     "excluded_from_script"
    ]
   },
   "outputs": [],
   "source": [
    "# frist step to deal with abnormal data point\n",
    "clean_test_set = dealWithOutliers(raw_test)"
   ]
  },
  {
   "cell_type": "code",
   "execution_count": null,
   "metadata": {
    "tags": [
     "excluded_from_script"
    ]
   },
   "outputs": [],
   "source": [
    "clean_test_set.head()"
   ]
  },
  {
   "cell_type": "code",
   "execution_count": null,
   "metadata": {
    "tags": [
     "excluded_from_script"
    ]
   },
   "outputs": [],
   "source": [
    "# add airports and convert coodinates to distances\n",
    "clean_test_set_with_distance = addThreeAirports(clean_test_set)"
   ]
  },
  {
   "cell_type": "code",
   "execution_count": null,
   "metadata": {
    "tags": [
     "excluded_from_script"
    ]
   },
   "outputs": [],
   "source": [
    "clean_test_set_with_distance.head()"
   ]
  },
  {
   "cell_type": "code",
   "execution_count": null,
   "metadata": {
    "tags": [
     "excluded_from_script"
    ]
   },
   "outputs": [],
   "source": [
    "clean_test_set_with_distance.shape"
   ]
  },
  {
   "cell_type": "code",
   "execution_count": null,
   "metadata": {
    "tags": [
     "excluded_from_script"
    ]
   },
   "outputs": [],
   "source": [
    "# parse datatime this can be ver different\n",
    "clean_test_set_with_distance_and_time = parseDatetime(clean_test_set_with_distance)"
   ]
  },
  {
   "cell_type": "code",
   "execution_count": null,
   "metadata": {
    "tags": [
     "excluded_from_script"
    ]
   },
   "outputs": [],
   "source": [
    "clean_test_set_with_distance_and_time.shape"
   ]
  },
  {
   "cell_type": "code",
   "execution_count": null,
   "metadata": {
    "tags": [
     "excluded_from_script"
    ]
   },
   "outputs": [],
   "source": [
    "# do the qcut for the numerical variables\n",
    "clean_test_set_with_distance_and_time_qcut = qcutNumericalForTestingSet(clean_test_set_with_distance_and_time)"
   ]
  },
  {
   "cell_type": "code",
   "execution_count": null,
   "metadata": {
    "tags": [
     "excluded_from_script"
    ]
   },
   "outputs": [],
   "source": [
    "clean_test_set_with_distance_and_time_qcut.shape"
   ]
  },
  {
   "cell_type": "code",
   "execution_count": null,
   "metadata": {
    "tags": [
     "excluded_from_script"
    ]
   },
   "outputs": [],
   "source": [
    "clean_test_set_with_distance_and_time_qcut.head()"
   ]
  },
  {
   "cell_type": "code",
   "execution_count": null,
   "metadata": {
    "tags": [
     "excluded_from_script"
    ]
   },
   "outputs": [],
   "source": [
    "# correct the columns\n",
    "clean_test_set_with_distance_and_time_qcut_correct = correctColumns(clean_test_set_with_distance_and_time_qcut)"
   ]
  },
  {
   "cell_type": "code",
   "execution_count": null,
   "metadata": {
    "tags": [
     "excluded_from_script"
    ]
   },
   "outputs": [],
   "source": [
    "list(clean_test_set_with_distance_and_time_qcut_correct.columns)"
   ]
  },
  {
   "cell_type": "code",
   "execution_count": null,
   "metadata": {
    "tags": [
     "excluded_from_script"
    ]
   },
   "outputs": [],
   "source": [
    "clean_test_set_with_distance_and_time_qcut_correct.shape"
   ]
  },
  {
   "cell_type": "code",
   "execution_count": null,
   "metadata": {
    "tags": [
     "excluded_from_script"
    ]
   },
   "outputs": [],
   "source": [
    "test_list = set(clean_test_set_with_distance_and_time_qcut_correct.columns)"
   ]
  },
  {
   "cell_type": "code",
   "execution_count": null,
   "metadata": {
    "tags": [
     "excluded_from_script"
    ]
   },
   "outputs": [],
   "source": [
    "train_list = set(cleaned_data_with_distance_and_time_qcut_correct)"
   ]
  },
  {
   "cell_type": "code",
   "execution_count": null,
   "metadata": {
    "tags": [
     "excluded_from_script"
    ]
   },
   "outputs": [],
   "source": [
    "diff = train_list - test_list"
   ]
  },
  {
   "cell_type": "code",
   "execution_count": null,
   "metadata": {
    "tags": [
     "excluded_from_script"
    ]
   },
   "outputs": [],
   "source": [
    "diff"
   ]
  },
  {
   "cell_type": "code",
   "execution_count": null,
   "metadata": {
    "tags": [
     "excluded_from_script"
    ]
   },
   "outputs": [],
   "source": [
    "final_model = XGBRegressor()\n",
    "final_model.fit(X, Y)\n",
    "X_test = clean_test_set_with_distance_and_time_qcut_correct.drop(['key', 'pickup_datetime'], axis=1)\n",
    "df_test['predicted_fare_amount'] = final_model.predict(X_test)\n",
    "df_test[['key', 'predicted_fare_amount']].to_csv('predictions.csv', index=False)"
   ]
  },
  {
   "cell_type": "code",
   "execution_count": null,
   "metadata": {},
   "outputs": [],
   "source": [
    "# Build final model with the entire training set\n",
    "final_model = XGBRegressor()\n",
    "final_model.fit(X, Y)\n",
    "\n",
    "# Read and transform test set\n",
    "raw_test = pd.read_csv('data/cc_nyc_fare_test.csv', parse_dates=['pickup_datetime'])\n",
    "df_test = process_test_data(raw_test)\n",
    "X_test = df_test.drop(['key', 'pickup_datetime'], axis=1)\n",
    "\n",
    "# Make predictions for test set and output a csv file\n",
    "# DO NOT change the column names\n",
    "df_test['predicted_fare_amount'] = final_model.predict(X_test)\n",
    "df_test[['key', 'predicted_fare_amount']].to_csv('predictions.csv', index=False)"
   ]
  }
 ],
 "metadata": {
  "celltoolbar": "Tags",
  "kernelspec": {
   "display_name": "Python 3",
   "language": "python",
   "name": "python3"
  },
  "language_info": {
   "codemirror_mode": {
    "name": "ipython",
    "version": 3
   },
   "file_extension": ".py",
   "mimetype": "text/x-python",
   "name": "python",
   "nbconvert_exporter": "python",
   "pygments_lexer": "ipython3",
   "version": "3.5.2"
  }
 },
 "nbformat": 4,
 "nbformat_minor": 2
}
